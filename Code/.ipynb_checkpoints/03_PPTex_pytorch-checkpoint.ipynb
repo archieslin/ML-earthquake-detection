{
 "cells": [
  {
   "cell_type": "code",
   "execution_count": 9,
   "id": "7d87bea2-fe91-4ed9-84c1-823a2cb2c54d",
   "metadata": {},
   "outputs": [],
   "source": [
    "import torch\n",
    "import torch.nn as nn\n",
    "import numpy as np\n",
    "from torch.optim import optimizer\n",
    "from sklearn import datasets\n",
    "import matplotlib.pyplot as plt"
   ]
  },
  {
   "cell_type": "code",
   "execution_count": 10,
   "id": "59d58faf-b461-4f5e-8add-e4fccf738f97",
   "metadata": {},
   "outputs": [],
   "source": [
    "# 0) prepare data\n",
    "feature_numpy, target_numpy = datasets.make_regression(n_samples=100, n_features=1, noise=20, random_state=1234)\n",
    "\n",
    "feature = torch.from_numpy(feature_numpy.astype(np.float32))\n",
    "target = torch.from_numpy(target_numpy.astype(np.float32))\n",
    "target = target.view(target.shape[0], 1)\n",
    "\n",
    "n_samples, n_features = feature.shape"
   ]
  },
  {
   "cell_type": "code",
   "execution_count": 13,
   "id": "4d27dab3-3890-4e54-879c-c9665b153200",
   "metadata": {},
   "outputs": [],
   "source": [
    "# 1) model\n",
    "class LinearRegression(nn.Module):\n",
    "    \n",
    "    def __init__(self, input_dim, output_dim):\n",
    "        super(LinearRegression, self).__init__()\n",
    "        \n",
    "        # define layers\n",
    "        self.linear = nn.Linear(input_dim, output_dim)\n",
    "        \n",
    "    def forward(self, x):\n",
    "    \n",
    "        return self.linear(x)\n",
    "\n",
    "model = LinearRegression(n_features, 1)"
   ]
  },
  {
   "cell_type": "code",
   "execution_count": 14,
   "id": "a6c6559b-de41-4bb0-8f59-47e716c24e95",
   "metadata": {},
   "outputs": [],
   "source": [
    "# 2) loss and optimizer\n",
    "learning_rate = 0.01\n",
    "criterion = nn.MSELoss()\n",
    "optimizer = torch.optim.SGD(model.parameters(), lr=learning_rate)"
   ]
  },
  {
   "cell_type": "code",
   "execution_count": 15,
   "id": "5291cc6f-a6e6-4597-8052-056fa601d172",
   "metadata": {},
   "outputs": [
    {
     "name": "stdout",
     "output_type": "stream",
     "text": [
      "epoch: 10, loss =  5655.4438\n",
      "epoch: 20, loss =  3890.4956\n",
      "epoch: 30, loss =  2709.5068\n",
      "epoch: 40, loss =  1919.1025\n",
      "epoch: 50, loss =  1389.9967\n",
      "epoch: 60, loss =  1035.7345\n",
      "epoch: 70, loss =  798.4895\n",
      "epoch: 80, loss =  639.5772\n",
      "epoch: 90, loss =  533.1120\n",
      "epoch: 100, loss =  461.7703\n"
     ]
    }
   ],
   "source": [
    "# 3) training loop\n",
    "epochs = 100\n",
    "for epoch in range(epochs):\n",
    "    # forward pass and loss\n",
    "    y_predicted = model(feature)\n",
    "    loss = criterion(y_predicted, target)\n",
    "\n",
    "    # backward pass\n",
    "    loss.backward()\n",
    "\n",
    "    # update\n",
    "    optimizer.step()\n",
    "    \n",
    "    # init optimizer\n",
    "    optimizer.zero_grad()\n",
    "\n",
    "    if (epoch + 1) % 10 == 0:\n",
    "        print(f'epoch: {epoch+1}, loss = {loss.item(): .4f}')"
   ]
  },
  {
   "cell_type": "code",
   "execution_count": 16,
   "id": "8c252cb8-5afa-4a31-82a3-8325db478c61",
   "metadata": {},
   "outputs": [
    {
     "data": {
      "image/png": "[encoded data removed]",
      "text/plain": [
       "<Figure size 640x480 with 1 Axes>"
      ]
     },
     "metadata": {},
     "output_type": "display_data"
    }
   ],
   "source": [
    "# show in image\n",
    "predicted = model(feature).detach().numpy()\n",
    "plt.plot(feature_numpy, target_numpy, 'ro')\n",
    "plt.plot(feature_numpy, predicted, 'b')\n",
    "plt.show()"
   ]
  },
  {
   "cell_type": "code",
   "execution_count": null,
   "id": "e4737766-bef8-414f-8a65-f483ada2653e",
   "metadata": {},
   "outputs": [],
   "source": []
  }
 ],
 "metadata": {
  "kernelspec": {
   "display_name": "Python 3 (ipykernel)",
   "language": "python",
   "name": "python3"
  },
  "language_info": {
   "codemirror_mode": {
    "name": "ipython",
    "version": 3
   },
   "file_extension": ".py",
   "mimetype": "text/x-python",
   "name": "python",
   "nbconvert_exporter": "python",
   "pygments_lexer": "ipython3",
   "version": "3.12.11"
  }
 },
 "nbformat": 4,
 "nbformat_minor": 5
}
