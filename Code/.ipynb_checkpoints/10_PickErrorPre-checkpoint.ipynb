{
 "cells": [
  {
   "cell_type": "code",
   "execution_count": 21,
   "id": "74acf8fe-b70e-499c-b931-94dc2468c629",
   "metadata": {},
   "outputs": [],
   "source": [
    "import torch\n",
    "import torch.nn as nn\n",
    "import numpy as np\n",
    "import matplotlib.pyplot as plt\n",
    "from obspy import read, UTCDateTime\n",
    "from torch.utils.data import TensorDataset, Dataset, DataLoader\n",
    "\n",
    "datapath = \"/home/sysop/pytorch/Data/\"\n",
    "outpath = \"/home/sysop/pytorch/Output/\""
   ]
  },
  {
   "cell_type": "markdown",
   "id": "11a506e1-20c5-4b01-bb8f-c7948690f72e",
   "metadata": {
    "jp-MarkdownHeadingCollapsed": true
   },
   "source": [
    "### Training Data"
   ]
  },
  {
   "cell_type": "code",
   "execution_count": 34,
   "id": "5402d41e-490a-44db-8524-4fd6848d9959",
   "metadata": {},
   "outputs": [],
   "source": [
    "st = read(datapath + \"0121Dapu.mseed\")\n",
    "t1 = UTCDateTime(2025, 1, 20, 16, 17, 16)\n",
    "t2 = UTCDateTime(2025, 1, 20, 16, 17, 34)\n",
    "st2 = st.slice(t2, t2+5)\n",
    "\n",
    "st2.normalize()\n",
    "st2.detrend(\"linear\")\n",
    "\n",
    "waveforms, stations, labels = [], [], []\n",
    "for i in st2:\n",
    "    waveforms.append(i.data)\n",
    "    stations.append(\"0121Dapu_\"+i.stats.station)\n",
    "    if i.stats.station in [\"ALS\", \"CHN8\", \"CHY\", \"SCL\", \"ELD\", \"SSD\", \"TAI\", \"TAI1\", \"WDL\", \"WGK\", \"WSF\", \"YUS\"]:\n",
    "        labels.append(1)\n",
    "    else:\n",
    "        labels.append(0)"
   ]
  },
  {
   "cell_type": "code",
   "execution_count": 39,
   "id": "79118d18-663e-466f-8bbd-ba066ef50acf",
   "metadata": {},
   "outputs": [],
   "source": [
    "st = read(datapath + \"0130Dapu.mseed\")\n",
    "t1 = UTCDateTime(2025, 1, 30, 2, 12, 6)\n",
    "t2 = UTCDateTime(2025, 1, 30, 2, 12, 11)\n",
    "st2 = st.slice(t1, t2)\n",
    "\n",
    "st2.normalize()\n",
    "st2.detrend(\"linear\")\n",
    "\n",
    "# waveforms, stations, labels = [], [], []\n",
    "for i in st2:\n",
    "    if i.stats.station == \"ENA\":\n",
    "        continue\n",
    "    else:\n",
    "        waveforms.append(i.data)\n",
    "        stations.append(\"0130Dapu_\"+i.stats.station)\n",
    "        if i.stats.station in [\"CHK\", \"ECL\", \"ECS\", \"SGL\", \"SML\", \"SPT\", \"TTN\", \"WDG\", \"WNT\", \"WTC\", \"WYL\"]:\n",
    "            labels.append(1)\n",
    "        else:\n",
    "            labels.append(0)"
   ]
  },
  {
   "cell_type": "code",
   "execution_count": 40,
   "id": "e7207a63-ca99-490d-b58e-c5adb9a8cc23",
   "metadata": {},
   "outputs": [],
   "source": [
    "st = read(datapath + \"0611Hualien.mseed\")\n",
    "t1 = UTCDateTime(2025, 6, 11, 11, 0, 51)\n",
    "t2 = UTCDateTime(2025, 6, 11, 11, 0, 56)\n",
    "st2 = st.slice(t1, t2)\n",
    "\n",
    "st2.normalize()\n",
    "st2.detrend(\"linear\")\n",
    "\n",
    "# waveforms, stations, labels = [], [], []\n",
    "for i in st2:\n",
    "    waveforms.append(i.data)\n",
    "    stations.append(\"0130Dapu_\"+i.stats.station)\n",
    "    if i.stats.station in [\"CHN8\", \"EAS\", \"HSN1\", \"ILA\", \"LAY\", \"NJD\", \"NJN\", \"NML\", \"NSK\", \"NST\", \"NSY\",\n",
    "                          \"SCL\", \"SCZ\", \"SGL\", \"SPT\", \"SSH\", \"TAI1\", \"WSF\", \"WTC\", \"WWC\"]:\n",
    "        labels.append(1)\n",
    "    else:\n",
    "        labels.append(0)"
   ]
  },
  {
   "cell_type": "markdown",
   "id": "83bab870-e68e-4952-99f6-d2b2dfbc03a6",
   "metadata": {
    "jp-MarkdownHeadingCollapsed": true
   },
   "source": [
    "### Model"
   ]
  },
  {
   "cell_type": "code",
   "execution_count": 5,
   "id": "12f59dfa-25ed-4b90-bbdb-8591ba4a5381",
   "metadata": {},
   "outputs": [],
   "source": [
    "class SeismicDataset(Dataset):\n",
    "    def __init__(self, waveforms, labels, stations):\n",
    "        self.waveforms = waveforms\n",
    "        self.labels = labels\n",
    "        self.stations = stations\n",
    "\n",
    "    def __len__(self):\n",
    "        return len(self.waveforms)\n",
    "\n",
    "    def __getitem__(self, idx):\n",
    "        waveform = torch.tensor(self.waveforms[idx], dtype=torch.float32)\n",
    "        label = torch.tensor(self.labels[idx], dtype=torch.long)\n",
    "        station = self.stations[idx]\n",
    "        return waveform, label, station"
   ]
  },
  {
   "cell_type": "code",
   "execution_count": 6,
   "id": "86c59a43-3b4b-49c1-b513-e761fb7c2351",
   "metadata": {},
   "outputs": [],
   "source": [
    "class FNN(nn.Module):\n",
    "    def __init__(self):\n",
    "        super().__init__()\n",
    "        self.net = nn.Sequential(\n",
    "            nn.Linear(501, 10),\n",
    "            nn.ReLU(),\n",
    "            nn.Linear(10, 2),\n",
    "        )\n",
    "    def forward(self, x):\n",
    "        return self.net(x)"
   ]
  },
  {
   "cell_type": "markdown",
   "id": "63f586e1-3dc6-4bc9-850f-a5d3d592ad55",
   "metadata": {},
   "source": [
    "### Data"
   ]
  },
  {
   "cell_type": "code",
   "execution_count": 41,
   "id": "866b66e8-a531-4ae3-a91d-9cf4a2c68fbd",
   "metadata": {},
   "outputs": [],
   "source": [
    "X_train = torch.tensor(np.array(waveforms))\n",
    "Y_train = torch.tensor(np.array(labels))\n",
    "train_data = DataLoader(TensorDataset(X_train, Y_train), batch_size = 3, shuffle = True)\n",
    "dataset = SeismicDataset(waveforms, labels, stations)\n",
    "loader = DataLoader(dataset, batch_size = 3, shuffle =True)"
   ]
  },
  {
   "cell_type": "code",
   "execution_count": 55,
   "id": "28dccfe5-0087-4cc2-a3ce-3313582ee38a",
   "metadata": {},
   "outputs": [
    {
     "name": "stdout",
     "output_type": "stream",
     "text": [
      "142.96752381138504 tensor([0, 0, 0]) 538 594\n",
      "epoch: 100, loss =  0.0956\n",
      "80.87262323542382 tensor([0, 0, 0]) 571 594\n",
      "epoch: 200, loss =  0.0307\n",
      "52.57115524915025 tensor([0, 1, 0]) 578 594\n",
      "epoch: 300, loss =  0.0376\n",
      "35.781208829272146 tensor([0, 0, 1]) 586 594\n",
      "epoch: 400, loss =  0.0113\n",
      "25.59648414272658 tensor([0, 1, 0]) 588 594\n",
      "epoch: 500, loss =  0.0121\n"
     ]
    }
   ],
   "source": [
    "train_losses = []\n",
    "train_accuracies = []\n",
    "\n",
    "model = FNN()\n",
    "loss_fn = nn.CrossEntropyLoss()\n",
    "optimizer = torch.optim.Adam(model.parameters(), lr = 0.0001)\n",
    "\n",
    "for epoch in range(500):\n",
    "    correct = 0\n",
    "    total = 0\n",
    "    running_loss = 0.0\n",
    "    \n",
    "    for xb, yb in train_data:\n",
    "        xb = xb.float()\n",
    "        out = model(xb)\n",
    "        loss = loss_fn(out, yb)\n",
    "        optimizer.zero_grad()\n",
    "        loss.backward()\n",
    "        optimizer.step()\n",
    "\n",
    "        running_loss += loss.item() * xb.size(0)\n",
    "        pred = out.argmax(dim=1)\n",
    "        correct += (pred == yb).sum().item()\n",
    "        total += yb.size(0)\n",
    "                \n",
    "    avg_loss = running_loss / total\n",
    "    acc = correct / total    \n",
    "    train_losses.append(avg_loss)\n",
    "    train_accuracies.append(acc)\n",
    "    \n",
    "    if (epoch + 1) % 100 == 0:\n",
    "        print(running_loss, pred, correct, total)\n",
    "        print(f'epoch: {epoch+1}, loss = {loss.item(): .4f}')"
   ]
  },
  {
   "cell_type": "code",
   "execution_count": 56,
   "id": "7b015ef7-59e7-49bb-b04b-677c2b88616f",
   "metadata": {},
   "outputs": [
    {
     "data": {
      "image/png": "[encoded data removed]",
      "text/plain": [
       "<Figure size 1200x500 with 2 Axes>"
      ]
     },
     "metadata": {},
     "output_type": "display_data"
    }
   ],
   "source": [
    "epochs_range = range(1, len(train_losses)+1)\n",
    "\n",
    "plt.figure(figsize=(12, 5))\n",
    "\n",
    "# Loss \n",
    "plt.subplot(1, 2, 1)\n",
    "plt.plot(epochs_range, train_losses, label='Train Loss')\n",
    "plt.xlabel('Epoch')\n",
    "plt.ylabel('Loss')\n",
    "plt.title('Training Loss')\n",
    "plt.legend()\n",
    "\n",
    "# Accuracy \n",
    "plt.subplot(1, 2, 2)\n",
    "plt.plot(epochs_range, train_accuracies, label='Train Accuracy', color='orange')\n",
    "plt.xlabel('Epoch')\n",
    "plt.ylabel('Accuracy')\n",
    "plt.title('Training Accuracy')\n",
    "plt.legend()\n",
    "\n",
    "plt.tight_layout()\n",
    "plt.savefig(outpath + \"training_progress.png\", dpi=300)\n",
    "plt.show()"
   ]
  },
  {
   "cell_type": "markdown",
   "id": "47b9230f-004f-4ec4-a652-03445eba0241",
   "metadata": {},
   "source": [
    "### Test Data"
   ]
  },
  {
   "cell_type": "code",
   "execution_count": 57,
   "id": "c545d7f5-72f2-4c36-ad39-4b4351689ec3",
   "metadata": {},
   "outputs": [],
   "source": [
    "st = read(datapath + \"241122Tainan.mseed\")\n",
    "st2 = st.slice(UTCDateTime(2024, 11, 22, 12, 40, 30), UTCDateTime(2024, 11, 22, 12, 40, 35))\n",
    "st2 = st2.normalize()\n",
    "st2 = st2.detrend(\"linear\")\n",
    "X_test = torch.tensor(np.array([i.data for i in st2]))\n",
    "Y_test = torch.tensor(np.array([1 if i.stats.station in [\"ALS\", \"ELD\", \"PNG\", \"SPT\", \"SSD\", \"WDL\", \n",
    "                                                         \"WGK\", \"WNT\", \"WTC\", \"WYL\", \"YUS\"] else 0 for i in st2]))\n",
    "\n",
    "waveforms, stations, labels = [], [], []\n",
    "for i in st2:\n",
    "    waveforms.append(i.data)\n",
    "    stations.append(i.stats.station)\n",
    "    if i.stats.station in [\"ALS\", \"ELD\", \"PNG\", \"SPT\", \"SSD\", \"WDL\", \"WGK\", \"WNT\", \"WTC\", \"WYL\", \"YUS\"]:\n",
    "        labels.append(1)\n",
    "    else:\n",
    "        labels.append(0)\n",
    "\n",
    "test_data = DataLoader(TensorDataset(X_test, Y_test), batch_size = 3, shuffle =True)\n",
    "dataset = SeismicDataset(waveforms, labels, stations)\n",
    "loader = DataLoader(dataset, batch_size = 3, shuffle =True)"
   ]
  },
  {
   "cell_type": "code",
   "execution_count": 64,
   "id": "c118619f-f535-4ffb-8825-536664d2a76e",
   "metadata": {},
   "outputs": [
    {
     "data": {
      "image/png": "[encoded data removed]",
      "text/plain": [
       "<Figure size 800x600 with 2 Axes>"
      ]
     },
     "metadata": {},
     "output_type": "display_data"
    }
   ],
   "source": [
    "import seaborn as sns\n",
    "from sklearn.metrics import confusion_matrix\n",
    "all_preds = []\n",
    "all_labels = []\n",
    "\n",
    "\n",
    "with torch.no_grad():\n",
    "    for xb, yb in test_data:\n",
    "        xb = xb.float()\n",
    "        pred = model(xb).argmax(1)   \n",
    "        all_preds.extend(pred.cpu().numpy())\n",
    "        all_labels.extend(yb.cpu().numpy())\n",
    "\n",
    "cm = confusion_matrix(all_labels, all_preds)\n",
    "total = cm.sum()\n",
    "correct = np.trace(cm)\n",
    "incorrect = total - correct\n",
    "\n",
    "accuracy = correct / total\n",
    "error_rate = incorrect / total\n",
    "\n",
    "plt.figure(figsize=(8, 6))\n",
    "sns.heatmap(cm, annot=True, fmt='d', cmap='Blues')\n",
    "plt.xlabel(\"Predicted\")\n",
    "plt.ylabel(\"True Label\")\n",
    "plt.title(f\"Confusion Matrix\\nAccuracy: {accuracy:.4f} | Error rate: {error_rate:.4f}\")\n",
    "plt.savefig(outpath + \"Confusion_Matrix\", dpi = 300)\n",
    "plt.show()"
   ]
  },
  {
   "cell_type": "code",
   "execution_count": 50,
   "id": "9e639547-cca5-4ee2-8a9a-4e1b8f9ed18e",
   "metadata": {},
   "outputs": [
    {
     "name": "stdout",
     "output_type": "stream",
     "text": [
      "Station: SGS\n",
      "Station: SPT\n",
      "Station: ALS\n",
      "Station: SGL\n",
      "Station: TIPB\n",
      "Station: WSF\n",
      "Station: EHP\n",
      "Station: SCL\n",
      "Station: TAI\n",
      "Station: CHY\n",
      "Station: PNG\n",
      "Station: WNT\n",
      "Station: WCH1\n",
      "Station: SPT\n",
      "Station: SSD\n",
      "Station: NWF\n",
      "Station: WTP\n",
      "Station: WDL\n",
      "Station: WYL\n",
      "Station: ELD\n",
      "Station: WGK\n",
      "Station: ELD\n",
      "Station: YUS\n",
      "Station: WGK\n",
      "Station: TAI1\n",
      "Station: NJN\n",
      "Station: ALS\n",
      "Station: WTP\n",
      "Station: WTC\n",
      "Station: WDL\n",
      "Station: TAI\n",
      "Station: WYL\n",
      "Station: CHN8\n",
      "Station: ECL\n"
     ]
    }
   ],
   "source": [
    "import matplotlib.pyplot as plt\n",
    "\n",
    "wrong = []\n",
    "model.eval()\n",
    "with torch.no_grad():\n",
    "    for xb, yb, stn in loader:\n",
    "        xb = xb.float()\n",
    "        out = model(xb)\n",
    "        pred = out.argmax(1)\n",
    "        for i in range(len(pred)):\n",
    "            if pred[i] != yb[i]:\n",
    "                wrong.append({\n",
    "                    \"station\": stn[i],\n",
    "                    \"true\": yb[i].item(),\n",
    "                    \"pred\": pred[i].item(),\n",
    "                    \"waveform\": xb[i].numpy()\n",
    "                })\n",
    "\n",
    "a = 0\n",
    "for e in wrong:\n",
    "    plt.figure(figsize=(10, 3))\n",
    "    plt.plot(e[\"waveform\"], color='k')\n",
    "    plt.title(f\"Station: {e['station']} | True: {e['true']} | Predicted: {e['pred']}\")\n",
    "    plt.xlabel(\"Time Sample\")\n",
    "    plt.ylabel(\"Amplitude\")\n",
    "    plt.grid(True)\n",
    "    plt.savefig(outpath + \"PreError/\" + str(a) + \"_\" + e['station'] + \".png\", dpi = 300);\n",
    "    plt.close()\n",
    "    print(f\"Station: {e['station']}\")\n",
    "    a += 1"
   ]
  },
  {
   "cell_type": "code",
   "execution_count": null,
   "id": "9457b7bb-68c7-4760-a63e-fab840b2fc46",
   "metadata": {},
   "outputs": [],
   "source": []
  }
 ],
 "metadata": {
  "kernelspec": {
   "display_name": "Python 3 (ipykernel)",
   "language": "python",
   "name": "python3"
  },
  "language_info": {
   "codemirror_mode": {
    "name": "ipython",
    "version": 3
   },
   "file_extension": ".py",
   "mimetype": "text/x-python",
   "name": "python",
   "nbconvert_exporter": "python",
   "pygments_lexer": "ipython3",
   "version": "3.10.12"
  }
 },
 "nbformat": 4,
 "nbformat_minor": 5
}
