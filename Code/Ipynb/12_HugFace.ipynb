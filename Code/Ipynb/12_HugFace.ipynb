{
 "cells": [
  {
   "cell_type": "code",
   "execution_count": 15,
   "id": "075e0ac8-a66d-4249-8d5c-601faa90dfe0",
   "metadata": {},
   "outputs": [
    {
     "name": "stderr",
     "output_type": "stream",
     "text": [
      "Device set to use cpu\n"
     ]
    }
   ],
   "source": [
    "from transformers import pipeline\n",
    "\n",
    "# 定義你的 QA 模型\n",
    "qa_pipeline = pipeline(\"question-answering\", model=\"uer/roberta-base-chinese-extractive-qa\")\n",
    "\n",
    "def extract_info(context):\n",
    "    \"\"\"\n",
    "    使用 QA 模型從新聞文稿中擷取特定資訊。\n",
    "    \"\"\"\n",
    "    # 定義報告欄位與對應的問題\n",
    "    questions = {\n",
    "        \"事件名稱\": \"這則新聞的事件是什麼？\",\n",
    "        \"日期\": \"事件發生的日期(西元年月日)是什麼時候？\",\n",
    "        \"時間\": \"事件發生的時間(時分)是什麼時候？\",\n",
    "        \"地點\": \"事件發生在哪裡？\",\n",
    "        \"規模\": \"事件發生的規模為何？\",\n",
    "        \"經度\": \"事件發生的經度為何？\",\n",
    "        \"緯度\": \"事件發生的緯度為何？\",  \n",
    "        \"深度\": \"事件發生的深度為何？\",      \n",
    "        \"相關單位\": \"有哪些單位參與了事件或調查？\",\n",
    "        \"摘要\": \"這則新聞的重點是什麼？\",\n",
    "        \"影響範圍\": \"這起事件影響到哪些人或哪些地區？\"\n",
    "    }\n",
    "\n",
    "    report_data = {}\n",
    "    \n",
    "    # 針對每個問題，向模型提問並儲存結果\n",
    "    for key, question in questions.items():\n",
    "        try:\n",
    "            # 讓 QA 模型從文中找出答案\n",
    "            result = qa_pipeline(question=question, context=context)\n",
    "            # 將答案儲存到字典中\n",
    "            report_data[key] = result['answer']\n",
    "        except Exception as e:\n",
    "            print(f\"擷取 '{key}' 資訊時發生錯誤: {e}\")\n",
    "            report_data[key] = \"無法擷取\" # 萬一失敗，給予預設值\n",
    "\n",
    "    return report_data"
   ]
  },
  {
   "cell_type": "code",
   "execution_count": 23,
   "id": "b90c00bc-e616-4a26-9e8c-825b571cdf0c",
   "metadata": {},
   "outputs": [
    {
     "name": "stdout",
     "output_type": "stream",
     "text": [
      "\n",
      "## 報告名稱: 28日緬甸地震事件說明 ##\n",
      "\n",
      "一、 事發時間地點\n",
      "依據美國地質調查局公告資訊，臺灣時間28日28日在緬甸，發生規模6.4地震地震，震源深\n",
      "度10公里，此次震央位於北緯地震坍塌損毀、東經地震坍塌損毀。\n",
      "美國地質調查局公告震央位置如下圖\n",
      "\n",
      "\"摘要\": \n",
      "緬甸規模6.4地震\n",
      "\n",
      "\"影響範圍\": \n",
      "緬甸\n",
      "\n",
      "---\n",
      "\n"
     ]
    }
   ],
   "source": [
    "# 步驟 1: 準備輸入資料\n",
    "news_article = \"\"\"\n",
    "快訊／緬甸規模6.4地震再襲　深度僅10公里\n",
    "\n",
    "記者詹雅婷／綜合報導\n",
    "緬甸28日下午發生規模7.7強震，緬甸大城仰光、中國雲南省昆明、泰國首都曼谷都出現明顯震感。\n",
    "根據美國地質調查局（USGS）最新資訊，在規模7.7地震發生後，相隔大約12分鐘，又發生規模6.4地震，震源深度同樣只有10公里。\n",
    "USGS資料顯示，規模6.4地震震央位於實皆（Sagaing）南方18公里處。依據地圖，這兩起地震震央似乎並不遠。\n",
    "依據稍早緬甸媒體CJ Platform曝光的畫面，實皆省的舊橋因地震坍塌損毀、昂班市有建築物倒塌、曼德勒市的南傳佛寺、\n",
    "僧舍與三藏學校因地震倒塌損毀，還有部分高樓建築倒塌。\n",
    "\"\"\"\n",
    "\n",
    "# 呼叫整合函式，自動擷取資訊並格式化\n",
    "extracted_data = extract_info(news_article)\n",
    "\n",
    "# 步驟 2: 填入報告範本\n",
    "# 這是你的報告範本\n",
    "report_template = \"\"\"\n",
    "## 報告名稱: {日期}{地點}地震事件說明 ##\n",
    "\n",
    "一、 事發時間地點\n",
    "依據{相關單位}公告資訊，臺灣時間{日期}{時間}在{地點}，發生規模{規模}地震，震源深\n",
    "度{深度}，此次震央位於北緯{緯度}、東經{經度}。\n",
    "{相關單位}公告震央位置如下圖\n",
    "\n",
    "\"摘要\": \n",
    "{摘要}\n",
    "\n",
    "\"影響範圍\": \n",
    "{影響範圍}\n",
    "\n",
    "---\n",
    "\"\"\"\n",
    "# 使用擷取到的資料填入範本\n",
    "final_report_content = report_template.format(**extracted_data)\n",
    "\n",
    "# print(\"自動化生成的報告內容：\")\n",
    "print(final_report_content)"
   ]
  },
  {
   "cell_type": "code",
   "execution_count": null,
   "id": "49ca511d-a838-447d-a735-ed944f330508",
   "metadata": {},
   "outputs": [],
   "source": []
  }
 ],
 "metadata": {
  "kernelspec": {
   "display_name": "Python 3 (ipykernel)",
   "language": "python",
   "name": "python3"
  },
  "language_info": {
   "codemirror_mode": {
    "name": "ipython",
    "version": 3
   },
   "file_extension": ".py",
   "mimetype": "text/x-python",
   "name": "python",
   "nbconvert_exporter": "python",
   "pygments_lexer": "ipython3",
   "version": "3.10.12"
  }
 },
 "nbformat": 4,
 "nbformat_minor": 5
}
