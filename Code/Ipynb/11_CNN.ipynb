{
 "cells": [
  {
   "cell_type": "code",
   "execution_count": 1,
   "id": "c38abbe1-9272-4daa-b80b-eb7741af4e59",
   "metadata": {},
   "outputs": [],
   "source": [
    "import torch\n",
    "import torch.nn as nn\n",
    "import torch.nn.functional as F\n",
    "from torch.utils.data import Dataset, DataLoader\n",
    "import torchvision\n",
    "import torchvision.transforms as transforms\n",
    "from torch.utils.tensorboard import SummaryWriter\n",
    "writer = SummaryWriter(log_dir=\"logs\") "
   ]
  },
  {
   "cell_type": "code",
   "execution_count": 2,
   "id": "5f61b8b5-4bbf-4111-b079-8f5fae1d1e37",
   "metadata": {},
   "outputs": [],
   "source": [
    "# Device configuration\n",
    "device = torch.device('cuda' if torch.cuda.is_available() else 'cpu')"
   ]
  },
  {
   "cell_type": "code",
   "execution_count": 3,
   "id": "dd97c9de-d190-40bb-9900-4330428c83cb",
   "metadata": {},
   "outputs": [],
   "source": [
    "# Hyper-parameters\n",
    "num_epochs = 4\n",
    "batch_size = 10\n",
    "learning_rate = 0.001"
   ]
  },
  {
   "cell_type": "code",
   "execution_count": 4,
   "id": "11b47976-76cb-43c8-930a-da0cd6a26285",
   "metadata": {},
   "outputs": [],
   "source": [
    "# 0) data import and set as pytorch dataset\n",
    "# MNIST\n",
    "train_dataset = torchvision.datasets.MNIST(root='./data', train=True,\n",
    "    transform=transforms.ToTensor(), download=True)\n",
    "\n",
    "test_dataset = torchvision.datasets.MNIST(root='./data', train=False,\n",
    "    transform=transforms.ToTensor(), download=True)\n",
    "\n",
    "train_loader = DataLoader(dataset=train_dataset, batch_size=batch_size,\n",
    "    shuffle=True)\n",
    "\n",
    "test_loader = DataLoader(dataset=test_dataset, batch_size=batch_size,\n",
    "    shuffle=True)"
   ]
  },
  {
   "cell_type": "code",
   "execution_count": 5,
   "id": "7415ce88-191a-4075-9469-02e705f3660b",
   "metadata": {},
   "outputs": [],
   "source": [
    "# 1) model build\n",
    "class ConvNet(nn.Module):\n",
    "    def __init__(self):\n",
    "        super(ConvNet, self).__init__()\n",
    "        # image shape is 1 * 28 * 28, where 1 is one color channel\n",
    "        # 28 * 28 is the image size\n",
    "        self.conv1 = nn.Conv2d(in_channels=1, out_channels=3, kernel_size=5)    # output shape = 3 * 24 * 24\n",
    "        self.pool = nn.MaxPool2d(kernel_size=2, stride=2)                       # output shape = 3 * 12 * 12\n",
    "        # intput shape is 3 * 12 * 12\n",
    "        self.conv2 = nn.Conv2d(in_channels=3, out_channels=9, kernel_size=5)    # output shape = 9 * 8 * 8\n",
    "        # add another max pooling, output shape = 9 * 4 * 4\n",
    "        self.fc1 = nn.Linear(9*4*4, 100)\n",
    "        self.fc2 = nn.Linear(100, 50)\n",
    "        # last fully connected layer output should be same as classes\n",
    "        self.fc3 = nn.Linear(50, 10)\n",
    "\n",
    "        \n",
    "    def forward(self, x):\n",
    "        # first conv\n",
    "        x = self.pool(F.relu(self.conv1(x)))\n",
    "        # second conv\n",
    "        x = self.pool(F.relu(self.conv2(x)))\n",
    "        # flatten all dimensions except batch\n",
    "        x = torch.flatten(x, 1)\n",
    "        # fully connected layers\n",
    "        x = F.relu(self.fc1(x))\n",
    "        x = F.relu(self.fc2(x))\n",
    "        x = self.fc3(x)\n",
    "\n",
    "        return x\n",
    "\n",
    "\n",
    "model = ConvNet().to(device)"
   ]
  },
  {
   "cell_type": "code",
   "execution_count": 6,
   "id": "793713d7-2d48-4e24-960b-62e68391b97c",
   "metadata": {},
   "outputs": [],
   "source": [
    "# 2) loss and optimizer\n",
    "criterion = nn.CrossEntropyLoss()\n",
    "optimizer = torch.optim.SGD(model.parameters(), lr=learning_rate)"
   ]
  },
  {
   "cell_type": "code",
   "execution_count": 7,
   "id": "fa111224-e75c-422c-a6a8-ac1b0255a878",
   "metadata": {},
   "outputs": [
    {
     "name": "stdout",
     "output_type": "stream",
     "text": [
      "epoch 1/4, step 1000/6000, loss = 2.2904\n",
      "epoch 1/4, step 2000/6000, loss = 2.2858\n",
      "epoch 1/4, step 3000/6000, loss = 2.3060\n",
      "epoch 1/4, step 4000/6000, loss = 2.2829\n",
      "epoch 1/4, step 5000/6000, loss = 2.2767\n",
      "epoch 1/4, step 6000/6000, loss = 2.2753\n",
      "epoch 2/4, step 1000/6000, loss = 2.2515\n",
      "epoch 2/4, step 2000/6000, loss = 2.2708\n",
      "epoch 2/4, step 3000/6000, loss = 2.2020\n",
      "epoch 2/4, step 4000/6000, loss = 2.0236\n",
      "epoch 2/4, step 5000/6000, loss = 1.3999\n",
      "epoch 2/4, step 6000/6000, loss = 1.1021\n",
      "epoch 3/4, step 1000/6000, loss = 0.3183\n",
      "epoch 3/4, step 2000/6000, loss = 0.3344\n",
      "epoch 3/4, step 3000/6000, loss = 0.5831\n",
      "epoch 3/4, step 4000/6000, loss = 0.1724\n",
      "epoch 3/4, step 5000/6000, loss = 0.1499\n",
      "epoch 3/4, step 6000/6000, loss = 0.3646\n",
      "epoch 4/4, step 1000/6000, loss = 0.5631\n",
      "epoch 4/4, step 2000/6000, loss = 0.4260\n",
      "epoch 4/4, step 3000/6000, loss = 0.3553\n",
      "epoch 4/4, step 4000/6000, loss = 0.2882\n",
      "epoch 4/4, step 5000/6000, loss = 0.7510\n",
      "epoch 4/4, step 6000/6000, loss = 0.1272\n",
      "Finished Training\n"
     ]
    }
   ],
   "source": [
    "# 3) Training loop\n",
    "n_total_steps = len(train_loader)\n",
    "for epoch in range(num_epochs):\n",
    "    for i, (images, labels) in enumerate(train_loader):\n",
    "        images = images.to(device)\n",
    "        labels = labels.to(device)\n",
    "        \n",
    "        # init optimizer\n",
    "        optimizer.zero_grad()\n",
    "        \n",
    "        # forward -> backward -> update\n",
    "        outputs = model(images)\n",
    "        loss = criterion(outputs, labels)\n",
    "        writer.add_scalar(\"Loss/train\", loss, epoch)\n",
    "        loss.backward()\n",
    "\n",
    "        optimizer.step()\n",
    "\n",
    "        if (i + 1) % 1000 == 0:\n",
    "            print(f'epoch {epoch+1}/{num_epochs}, step {i+1}/{n_total_steps}, loss = {loss.item():.4f}')\n",
    "writer.close()\n",
    "print('Finished Training')"
   ]
  },
  {
   "cell_type": "code",
   "execution_count": 8,
   "id": "21e62339-d4a1-487c-9197-5b9cdbb0a8a3",
   "metadata": {},
   "outputs": [
    {
     "name": "stdout",
     "output_type": "stream",
     "text": [
      "tensor([ 7.0104,  7.3291,  7.6799,  7.3606,  5.4790,  5.7394,  8.2522,  6.9334,\n",
      "        11.5940,  7.9955], grad_fn=<MaxBackward0>) tensor([1, 9, 5, 6, 0, 3, 3, 3, 4, 4])\n"
     ]
    }
   ],
   "source": [
    "_, predicted = torch.max(outputs, 1)\n",
    "print(_, predicted)"
   ]
  },
  {
   "cell_type": "code",
   "execution_count": 9,
   "id": "afc4220e-62a6-4acb-9166-4c34831d8c64",
   "metadata": {},
   "outputs": [
    {
     "name": "stdout",
     "output_type": "stream",
     "text": [
      "10\n"
     ]
    }
   ],
   "source": [
    "print(len(outputs))"
   ]
  },
  {
   "cell_type": "code",
   "execution_count": 10,
   "id": "7a9e10f1-a3de-4755-abed-51c6e8a9761f",
   "metadata": {},
   "outputs": [
    {
     "data": {
      "text/plain": [
       "tensor([1, 1, 4, 3, 6, 8, 1, 8, 9, 5])"
      ]
     },
     "execution_count": 10,
     "metadata": {},
     "output_type": "execute_result"
    }
   ],
   "source": [
    "batch = next(iter(test_loader))\n",
    "batch[1]"
   ]
  },
  {
   "cell_type": "code",
   "execution_count": 11,
   "id": "c58860b0-8884-487d-9086-b08927052cff",
   "metadata": {},
   "outputs": [
    {
     "name": "stdout",
     "output_type": "stream",
     "text": [
      "Accuracy of the network: 92.08 %\n",
      "Accuracy of 0: 100.0 %\n",
      "Accuracy of 1: 100.0 %\n",
      "Accuracy of 2: 100.0 %\n",
      "Accuracy of 3: 100.0 %\n",
      "Accuracy of 4: 100.0 %\n",
      "Accuracy of 5: 100.0 %\n",
      "Accuracy of 6: 100.0 %\n",
      "Accuracy of 7: 100.0 %\n",
      "Accuracy of 8: 100.0 %\n",
      "Accuracy of 9: 100.0 %\n"
     ]
    }
   ],
   "source": [
    "# 4) Testing loop\n",
    "wrong = []\n",
    "with torch.no_grad():\n",
    "    n_correct = 0\n",
    "    n_samples = 0\n",
    "    n_class_correct = [0 for i in range(10)]\n",
    "    n_class_samples = [0 for i in range(10)]\n",
    "    for images, labels in test_loader:\n",
    "        images = images.to(device)\n",
    "        labels = labels.to(device)\n",
    "\n",
    "        outputs = model(images)\n",
    "        # max returns (value, index)\n",
    "        _, predicted = torch.max(outputs, 1)\n",
    "        n_samples += labels.size(0)\n",
    "        n_correct += (predicted == labels).sum().item()\n",
    "\n",
    "        for i in range(batch_size):\n",
    "            label = labels[i]\n",
    "            pred = predicted[i]\n",
    "            if (label == pred):\n",
    "                n_class_correct[label] += 1\n",
    "                n_class_samples[label] += 1\n",
    "            else:\n",
    "                wrong.append([pred, label])\n",
    "               \n",
    "\n",
    "    acc = 100.0 * n_correct / n_samples\n",
    "    print(f'Accuracy of the network: {acc} %')\n",
    "\n",
    "    for i in range(10):\n",
    "        acc = 100.0 * n_class_correct[i] / n_class_samples[i]\n",
    "        print(f'Accuracy of {i}: {acc} %')"
   ]
  },
  {
   "cell_type": "code",
   "execution_count": null,
   "id": "07e1721c-7ad5-4b01-8b85-fad714087784",
   "metadata": {},
   "outputs": [],
   "source": []
  }
 ],
 "metadata": {
  "kernelspec": {
   "display_name": "Python 3 (ipykernel)",
   "language": "python",
   "name": "python3"
  },
  "language_info": {
   "codemirror_mode": {
    "name": "ipython",
    "version": 3
   },
   "file_extension": ".py",
   "mimetype": "text/x-python",
   "name": "python",
   "nbconvert_exporter": "python",
   "pygments_lexer": "ipython3",
   "version": "3.10.12"
  }
 },
 "nbformat": 4,
 "nbformat_minor": 5
}
