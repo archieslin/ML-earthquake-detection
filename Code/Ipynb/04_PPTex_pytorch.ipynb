{
 "cells": [
  {
   "cell_type": "code",
   "execution_count": 1,
   "id": "23bb6f3e-1aad-4ec4-b392-69b1fd842383",
   "metadata": {},
   "outputs": [],
   "source": [
    "import torch\n",
    "import torch.nn as nn\n",
    "import torch.optim as optimizer\n",
    "import numpy as np\n",
    "import matplotlib.pyplot as plt"
   ]
  },
  {
   "cell_type": "code",
   "execution_count": 7,
   "id": "9aab2f27-6523-440f-90e1-d07f1380d5aa",
   "metadata": {},
   "outputs": [
    {
     "name": "stdout",
     "output_type": "stream",
     "text": [
      "<class 'list'> <class 'list'>\n"
     ]
    }
   ],
   "source": [
    "#) data\n",
    "event_id = []\n",
    "event_feature = []\n",
    "event_target = []\n",
    "with open (\"ECS_pytorch.txt\", \"r\", encoding=\"utf-8\") as file:\n",
    "    lines = file.readlines()\n",
    "    for line in lines:\n",
    "        event_id.append(line.split()[0])\n",
    "        event_feature.append([float(line.split()[1])])\n",
    "        event_target.append([float(line.split()[2])])\n",
    "\n",
    "print(type(event_feature), type(event_target))"
   ]
  },
  {
   "cell_type": "code",
   "execution_count": 29,
   "id": "c92e2397-b2cc-4b04-87b8-1ab9aecd7e75",
   "metadata": {},
   "outputs": [],
   "source": [
    "#) model\n",
    "class LinearRegression(nn.Module):\n",
    "    def __init__(self, input_dem, output_dem):\n",
    "        super().__init__()\n",
    "\n",
    "        self.linear = nn.Linear(input_dem, output_dem)\n",
    "        \n",
    "    def forward(self, x):\n",
    "        return self.linear(x)     \n",
    "\n",
    "#) pre-processing\n",
    "X = torch.tensor(event_feature, dtype=torch.float32).reshape(-1, 1)\n",
    "Y = torch.tensor(event_target, dtype=torch.float32).reshape(-1, 1)\n",
    "# X_log = torch.log(X + 1e-6)\n",
    "# Y_log = torch.log(Y + 1e-6)\n",
    "feature = X\n",
    "target = Y\n",
    "\n",
    "# x_min, x_max = X.min(), X.max()\n",
    "# y_min, y_max = Y.min(), Y.max()\n",
    "# X_norm = (X - x_min) / (x_max - x_min)\n",
    "# Y_norm = (Y - y_min) / (y_max - y_min)\n",
    "# feature = X_norm\n",
    "# target = Y_norm"
   ]
  },
  {
   "cell_type": "code",
   "execution_count": 41,
   "id": "5f8721c1-9108-4a8f-8d1e-1c2f1bff3aba",
   "metadata": {},
   "outputs": [
    {
     "name": "stdout",
     "output_type": "stream",
     "text": [
      "epoch: 20, loss =  303883.6562\n",
      "epoch: 40, loss =  301228.1875\n",
      "epoch: 60, loss =  298591.4375\n",
      "epoch: 80, loss =  295974.2500\n",
      "epoch: 100, loss =  293376.3438\n",
      "epoch: 120, loss =  290797.7500\n",
      "epoch: 140, loss =  288238.3438\n",
      "epoch: 160, loss =  285698.0625\n",
      "epoch: 180, loss =  283176.6875\n",
      "epoch: 200, loss =  280674.0938\n"
     ]
    }
   ],
   "source": [
    "n_feature = 1\n",
    "model = LinearRegression(n_feature, 1)\n",
    "\n",
    "#) loss and optimizer\n",
    "learning_rate = 0.001\n",
    "criterion = nn.MSELoss()\n",
    "optimizer = torch.optim.Adam(model.parameters(), lr = learning_rate)\n",
    "\n",
    "#) training\n",
    "epochs = 200\n",
    "for epoch in range(epochs):\n",
    "    y_predicted = model(feature)\n",
    "    loss = criterion(y_predicted, target)\n",
    "    \n",
    "    loss.backward()\n",
    "    optimizer.step()\n",
    "    optimizer.zero_grad()\n",
    "\n",
    "    if (epoch + 1) % 20 == 0:\n",
    "        print(f'epoch: {epoch+1}, loss = {loss.item(): .4f}')"
   ]
  },
  {
   "cell_type": "code",
   "execution_count": 33,
   "id": "d8853bc7-24c8-428e-837a-d4e93ee630f8",
   "metadata": {},
   "outputs": [
    {
     "data": {
      "image/png": "[encoded data removed]",
      "text/plain": [
       "<Figure size 640x480 with 1 Axes>"
      ]
     },
     "metadata": {},
     "output_type": "display_data"
    }
   ],
   "source": [
    "#) show in image\n",
    "predicted = model(feature).detach().numpy()\n",
    "plt.plot(feature, target, 'ro')\n",
    "plt.plot(feature, predicted, 'b')\n",
    "# plt.xscale('log')\n",
    "# plt.yscale('log')\n",
    "plt.title(\"ECS\")\n",
    "plt.savefig(\"ECS.png\", dpi = 300)\n",
    "plt.show()"
   ]
  },
  {
   "cell_type": "code",
   "execution_count": 14,
   "id": "6341036d-9522-42a7-a1f9-5e0bbcb29ed8",
   "metadata": {},
   "outputs": [],
   "source": [
    "from torch.utils.tensorboard import SummaryWriter\n",
    "\n",
    "# 建立 log 目錄\n",
    "writer = SummaryWriter(log_dir='./runs/exp1')\n",
    "\n",
    "# 範例紀錄\n",
    "for epoch in range(10):\n",
    "    loss = 0.1 * epoch\n",
    "    writer.add_scalar('Loss/train', loss, epoch)\n",
    "\n",
    "writer.close()\n"
   ]
  },
  {
   "cell_type": "code",
   "execution_count": null,
   "id": "e7b67f3e-d78c-4b37-a2b8-822c022240ba",
   "metadata": {},
   "outputs": [],
   "source": []
  }
 ],
 "metadata": {
  "kernelspec": {
   "display_name": "Python 3 (ipykernel)",
   "language": "python",
   "name": "python3"
  },
  "language_info": {
   "codemirror_mode": {
    "name": "ipython",
    "version": 3
   },
   "file_extension": ".py",
   "mimetype": "text/x-python",
   "name": "python",
   "nbconvert_exporter": "python",
   "pygments_lexer": "ipython3",
   "version": "3.12.11"
  }
 },
 "nbformat": 4,
 "nbformat_minor": 5
}
